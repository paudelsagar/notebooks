{
 "cells": [
  {
   "cell_type": "markdown",
   "id": "2649ac0a-47a7-44fe-a85c-64fe476e9152",
   "metadata": {},
   "source": [
    "# Welcome"
   ]
  },
  {
   "cell_type": "code",
   "execution_count": 1,
   "id": "3f95d3cb-df12-4bdb-86b8-2a707fc3b3b6",
   "metadata": {
    "execution": {
     "iopub.execute_input": "2025-08-06T22:37:20.356484Z",
     "iopub.status.busy": "2025-08-06T22:37:20.356118Z",
     "iopub.status.idle": "2025-08-06T22:37:20.362674Z",
     "shell.execute_reply": "2025-08-06T22:37:20.361490Z",
     "shell.execute_reply.started": "2025-08-06T22:37:20.356456Z"
    }
   },
   "outputs": [
    {
     "name": "stdout",
     "output_type": "stream",
     "text": [
      "Hello World!\n"
     ]
    }
   ],
   "source": [
    "print(\"Hello World!\")"
   ]
  }
 ],
 "metadata": {
  "kernelspec": {
   "display_name": "Python3.13 (exp)",
   "language": "python",
   "name": "exp"
  },
  "language_info": {
   "codemirror_mode": {
    "name": "ipython",
    "version": 3
   },
   "file_extension": ".py",
   "mimetype": "text/x-python",
   "name": "python",
   "nbconvert_exporter": "python",
   "pygments_lexer": "ipython3",
   "version": "3.13.2"
  }
 },
 "nbformat": 4,
 "nbformat_minor": 5
}
